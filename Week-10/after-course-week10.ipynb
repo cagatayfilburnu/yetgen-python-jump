{
 "cells": [
  {
   "attachments": {},
   "cell_type": "markdown",
   "metadata": {},
   "source": [
    "# Problem 1 "
   ]
  },
  {
   "cell_type": "code",
   "execution_count": 1,
   "metadata": {},
   "outputs": [
    {
     "name": "stdout",
     "output_type": "stream",
     "text": [
      "[ 5  8  3  1 11]\n",
      "[ 1  3  5  8 11]\n"
     ]
    }
   ],
   "source": [
    "# 1 - numpy kütüphanesini import edin\n",
    "import numpy as np\n",
    "# 2 - 5 elemanlı bir numpy array oluşturun\n",
    "array = np.array([5, 8, 3, 1, 11])\n",
    "print(array)\n",
    "# 3 - Oluşturduğunuz arrayi küçükten büyüğe sıralayın.\n",
    "sorted_array = np.sort(array)\n",
    "print(sorted_array)"
   ]
  },
  {
   "attachments": {},
   "cell_type": "markdown",
   "metadata": {},
   "source": [
    "# Problem 2"
   ]
  },
  {
   "cell_type": "code",
   "execution_count": 20,
   "metadata": {},
   "outputs": [
    {
     "name": "stdout",
     "output_type": "stream",
     "text": [
      "[10 15 30 45 60]\n",
      "[ 5  6  7  8  9 10 11 12 13 14 15]\n",
      "[ 50  55  60  65  70  75  80  85  90  95 100]\n",
      "[0. 0. 0. 0. 0. 0. 0. 0. 0. 0.]\n",
      "[1. 1. 1. 1. 1. 1. 1. 1. 1. 1.]\n",
      "[  0.  25.  50.  75. 100.]\n",
      "[13 10 25 21 18]\n",
      "[ 1.84390447 -0.80689026 -0.53727434  0.8540002   0.50788746  1.08540855\n",
      " -0.75089642 -0.62923419  0.63902869 -0.59086618]\n",
      "[ 1.84390447 -0.80689026 -0.53727434  0.8540002   0.50788746  1.08540855\n",
      " -0.75089642 -0.62923419  0.63902869 -0.59086618]\n",
      "Row total: [168 156 165]\n",
      "Column total:  [121  74 127  45 122]\n",
      "Max value: 11\n",
      "Min value: 47\n",
      "Matrix mean: 32.6\n",
      "7\n",
      "[10 11 12]\n",
      "[20 19 18 17 16 15 14 13 12 11 10]\n",
      "[46 29 35 16 42]\n",
      "47\n",
      "[46 42 33]\n",
      "[[2116  841 1225  256 1764]\n",
      " [1764  144 2209  324 1369]\n",
      " [1089 1089 2025  121 1849]]\n",
      "[ 2 38]\n"
     ]
    }
   ],
   "source": [
    "# 1- (10,15,30,45,60) değerlerine sahip numpy dizisi oluşturunuz.\n",
    "array = np.array([10, 15, 30, 45, 60])\n",
    "print(array)\n",
    "# 2- (5-15) arasındaki sayılarla numpy dizisi oluşturunuz.\n",
    "arr = np.arange(5, 16)\n",
    "print(arr)\n",
    "\n",
    "# 3- (50-100) arasında 5'er 5'er artarak numpy dizisi oluşturunuz.\n",
    "arr = np.arange(50, 101, 5)\n",
    "print(arr)\n",
    "\n",
    "# 4- 10 elemanlı sıfırlardan oluşan bir dizi oluşturunuz.\n",
    "arr_zeros = np.zeros(10)\n",
    "print(arr_zeros)\n",
    "\n",
    "# 5- 10 elemanlı birlerden oluşan bir dizi oluşturunuz.\n",
    "arr_ones = np.ones(10)\n",
    "print(arr_ones)\n",
    "\n",
    "# 6- (0-100) arasında eşit aralıklı 5 sayı üretin.\n",
    "arr = np.linspace(0, 100, 5)\n",
    "print(arr)\n",
    "\n",
    "# 7- (10-30) arasında rastgele 5 tane tamsayı üretin.\n",
    "arr = np.random.randint(10, 31, size=5)\n",
    "print(arr)\n",
    "\n",
    "# 8- [-1 ile 1] arasında 10 adet sayı üretin.\n",
    "arr = np.random.uniform(-1, 2, size=10)\n",
    "print(arr)\n",
    "\n",
    "# 9- (3x5) boyutlarında (10-50) arasında rastgele bir matris oluşturunuz.\n",
    "matrix = np.random.randint(10, 51, size=(3, 5))\n",
    "print(arr)\n",
    "\n",
    "# 10- Üretilen matrisin satır ve sütun sayıları toplamlarını hesaplayınız ?\n",
    "row_total = np.sum(matrix, axis=1)\n",
    "column_total = np.sum(matrix, axis=0)\n",
    "\n",
    "print(\"Row total:\", row_total)\n",
    "print(\"Column total: \", column_total)\n",
    "# 11- Üretilen matrisin en büyük, en küçük ve ortalaması nedir ?\n",
    "min_value = np.max(matrix)\n",
    "max_value = np.min(matrix)\n",
    "mean_matrix = np.mean(matrix)\n",
    "\n",
    "print(\"Max value:\", max_value)\n",
    "print(\"Min value:\", min_value)\n",
    "print(\"Matrix mean:\", mean_matrix)\n",
    "\n",
    "# 12- Üretilen matrisin en büyük değerinin indeksi kaçtır ?\n",
    "max_index = np.argmax(matrix)\n",
    "print(max_index)\n",
    "# 13- (10-20) arasındaki sayıları içeren dizinin ilk 3 elemanını seçiniz.\n",
    "arr = np.arange(10, 21)\n",
    "sample_arr = arr[:3]\n",
    "\n",
    "print(sample_arr)\n",
    "# 14- Üretilen dizinin elemanlarını tersten yazdırın.\n",
    "arr_1 = arr[::-1]\n",
    "\n",
    "print(arr_1)\n",
    "# 15- Üretilen matrisin ilk satırını seçiniz.\n",
    "print(matrix[0])\n",
    "\n",
    "# 16- Üretilen matrisin 2.satır 3.sütundaki elemanı hangisidir ?\n",
    "print(matrix[1, 2])\n",
    "\n",
    "# 17- Üretilen matrisin tüm satırlardaki ilk elemanı seçiniz.\n",
    "print(matrix[:, 0])\n",
    "\n",
    "# 18- Üretilen matrisin her bir elemanının karesini alınız.\n",
    "print(np.square(matrix))\n",
    "\n",
    "# 19- Üretilen matris elemanlarının hangisi pozitif çift sayıdır ? Aralığı (-50,+50) arasında yapınız.\n",
    "matrix = np.random.randint(-50, 51, size=(3, 5))\n",
    "print(matrix[(matrix > 0) & (matrix % 2 == 0)])"
   ]
  }
 ],
 "metadata": {
  "kernelspec": {
   "display_name": "Python 3",
   "language": "python",
   "name": "python3"
  },
  "language_info": {
   "codemirror_mode": {
    "name": "ipython",
    "version": 3
   },
   "file_extension": ".py",
   "mimetype": "text/x-python",
   "name": "python",
   "nbconvert_exporter": "python",
   "pygments_lexer": "ipython3",
   "version": "3.10.11"
  },
  "orig_nbformat": 4,
  "vscode": {
   "interpreter": {
    "hash": "5026d2d6e7aaaaba093def813beadff083d8733e4a511af01735cbabd156995d"
   }
  }
 },
 "nbformat": 4,
 "nbformat_minor": 2
}
