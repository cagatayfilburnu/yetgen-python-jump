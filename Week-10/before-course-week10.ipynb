{
 "cells": [
  {
   "attachments": {},
   "cell_type": "markdown",
   "metadata": {},
   "source": [
    "# Problem 1"
   ]
  },
  {
   "cell_type": "code",
   "execution_count": 2,
   "metadata": {},
   "outputs": [
    {
     "name": "stdout",
     "output_type": "stream",
     "text": [
      "[ 5  1  1 10  4]\n",
      "(5,)\n",
      "[[ 5  1  1 10  4]]\n",
      "1\n"
     ]
    }
   ],
   "source": [
    "# 1 - numpy kütüphanesini import edin\n",
    "import numpy as np\n",
    "\n",
    "# 2 - 0 ile 10 arasında 5 sayıdan oluşan matris üretin\n",
    "matrix = np.random.randint(0, 11, size=5)\n",
    "print(matrix)\n",
    "# 3 - matris'in boyutunu öğrenin\n",
    "print(matrix.shape)\n",
    "# 4 - matris'i yeniden boyutlandırın\n",
    "new_matrix =matrix.reshape(1, 5)\n",
    "print(new_matrix)\n",
    "# 5 - matris'in boyut sayısını öğrenin\n",
    "print(matrix.ndim)"
   ]
  },
  {
   "attachments": {},
   "cell_type": "markdown",
   "metadata": {},
   "source": [
    "# Problem 2"
   ]
  },
  {
   "cell_type": "code",
   "execution_count": 21,
   "metadata": {},
   "outputs": [
    {
     "name": "stdout",
     "output_type": "stream",
     "text": [
      "[1 3 5 7 9]\n",
      "[1 3 5]\n",
      "[1 3 5 1 3 5 7 9]\n"
     ]
    }
   ],
   "source": [
    "# 1 - 0 ile 10 arasında bulunan tek sayılardan oluşan matris üretin\n",
    "matrix_1 = np.arange(1, 11, 2)\n",
    "print(matrix_1)\n",
    "# 2 - Oluşturduğunuz matrisi parçalayın\n",
    "matrix_2 = matrix_1[:3]\n",
    "print(matrix_2)\n",
    "# 3 - Parçalanmış matrisleri birleştirin\n",
    "final_matrix = np.concatenate((matrix_2, matrix_1))\n",
    "print(final_matrix)"
   ]
  },
  {
   "attachments": {},
   "cell_type": "markdown",
   "metadata": {},
   "source": [
    "# Problem 3"
   ]
  },
  {
   "cell_type": "code",
   "execution_count": 22,
   "metadata": {},
   "outputs": [
    {
     "name": "stdout",
     "output_type": "stream",
     "text": [
      "[[71 41 55 65 59]\n",
      " [31 79 57 35 79]]\n",
      "Dimension:  2\n",
      "Shape:  (2, 5)\n",
      "Size:  10\n"
     ]
    }
   ],
   "source": [
    "# 1 - 5 ile 100 arasında ikişer ikişer atlayarak rastgele 10 sayıdan oluşan matris üretin\n",
    "matrix = np.random.choice(np.arange(5, 101, 2), size=(2, 5))\n",
    "print(matrix)\n",
    "# 2 - matris'in özelliklerini inceleyin\n",
    "print(\"Dimension: \", matrix.ndim)\n",
    "print(\"Shape: \", matrix.shape)\n",
    "print(\"Size: \", matrix.size)\n"
   ]
  }
 ],
 "metadata": {
  "kernelspec": {
   "display_name": "Python 3",
   "language": "python",
   "name": "python3"
  },
  "language_info": {
   "codemirror_mode": {
    "name": "ipython",
    "version": 3
   },
   "file_extension": ".py",
   "mimetype": "text/x-python",
   "name": "python",
   "nbconvert_exporter": "python",
   "pygments_lexer": "ipython3",
   "version": "3.10.11"
  },
  "orig_nbformat": 4,
  "vscode": {
   "interpreter": {
    "hash": "5026d2d6e7aaaaba093def813beadff083d8733e4a511af01735cbabd156995d"
   }
  }
 },
 "nbformat": 4,
 "nbformat_minor": 2
}
