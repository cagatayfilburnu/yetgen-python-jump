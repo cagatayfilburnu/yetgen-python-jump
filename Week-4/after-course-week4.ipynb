{
 "cells": [
  {
   "cell_type": "markdown",
   "metadata": {},
   "source": [
    "# Problem 1\n",
    "`ogrenciler` adında bir sözlük oluşturunuz. Kullanıcıdan döngü yardımıyla 3 öğrenci için veri girmesini isteyerek öğrencilerin sırasıyla okul numarası, isim, soy isim, telefon numarası ve doğum tarihi bilgilerini alınız. Aldığınız öğrenci bilgilerini yine aynı döngü yardımıyla `ogrenciler` adındaki sözlükte saklayınız. Daha sonra öğrenci bilgilerinin bulunduğu sözlük yapısını ekrana bastırınız.\n",
    "\n"
   ]
  },
  {
   "cell_type": "code",
   "execution_count": 3,
   "metadata": {},
   "outputs": [
    {
     "name": "stdout",
     "output_type": "stream",
     "text": [
      "{1: ['Kemal', '1281', '5328328722', '13-11-2000'], 2: ['İlayda Lil', '3348', '5329328821', '20-06-2000'], 3: ['S', '3668', '5328379084', '01-01-1995']}\n"
     ]
    }
   ],
   "source": [
    "# 1.Problemin Çözümünü Buraya Yazınız\n",
    "students_dict = dict()\n",
    "temp = 0\n",
    "while temp <= 2:\n",
    "    student_no = input(\"Enter student number: \")\n",
    "    student_name = input(\"Enter student name: \")\n",
    "    student_phone_no = input(\"Enter student phone number: \")\n",
    "    student_birth = input(\"Enter student birthday: \")\n",
    "    \n",
    "    students_dict[temp+1] = [student_name, student_no, student_phone_no, student_birth]\n",
    "    temp += 1\n",
    "\n",
    "print(students_dict)"
   ]
  },
  {
   "cell_type": "markdown",
   "metadata": {},
   "source": [
    "# Problem 2\n",
    "\n",
    "### a - Biraz ısınarak başlayalım!\n",
    "\n",
    "```\n",
    "numbers = [5,10,10,15,15,15,20,20,20,20]\n",
    "```\n",
    "\n",
    "Yukarıda `numbers` adında 10 elemanlı bir liste verilmiştir. Bu listenin her elemanını kontrol eden ve tekrar eden elemanları bir kez olacak şekilde başka bir listeye kopyalayan bir program yazınız. Son olarak oluşturduğunuz listeyi ekrana bastırınız.\n",
    "\n",
    "\n",
    "\n",
    "\n",
    "```\n",
    ">Output\n",
    "[5, 10, 15, 20]\n",
    "```\n"
   ]
  },
  {
   "cell_type": "code",
   "execution_count": 8,
   "metadata": {},
   "outputs": [
    {
     "name": "stdout",
     "output_type": "stream",
     "text": [
      "[10, 20, 5, 15]\n"
     ]
    }
   ],
   "source": [
    "# 2.Problemin a Şıkkının Çözümünü Buraya Yazınız\n",
    "numbers_list = [5,10,10,15,15,15,20,20,20,20]\n",
    "\n",
    "number_set = set(numbers_list)\n",
    "result_list = [element for element in number_set]\n",
    "print(result_list)\n"
   ]
  },
  {
   "cell_type": "markdown",
   "metadata": {},
   "source": [
    "### 🌶️ b) Hadi işi biraz daha zorlaştıralım! \n",
    "\n",
    "\n",
    "Şimdiyse senden `numbers` isimli listedeki tekrar eden elemanları `repeatNumbers` adındaki listeye; tekrar etmeyen elemanları `uniqueNumbers`adındaki listeye kopyalayan yazmanı ve listeleri ekrana bastırmanı bekliyoruz\n",
    "\n",
    "```\n",
    ">Output\n",
    "Tekrar Eden Elemanlar: [10, 10, 15, 15, 15, 20, 20, 20, 20]\n",
    "Tekrar Etmeyen Elemanlar: [5]\n",
    "```"
   ]
  },
  {
   "cell_type": "code",
   "execution_count": 15,
   "metadata": {},
   "outputs": [
    {
     "name": "stdout",
     "output_type": "stream",
     "text": [
      "[5, 10, 10, 15, 15, 15, 20, 20, 20, 20]\n",
      "[5, 5, 5, 10, 10, 10, 10, 10, 10, 15, 15, 15, 15, 15, 15, 15, 15, 15, 20, 20, 20, 20, 20, 20, 20, 20, 20, 20, 20, 20]\n"
     ]
    }
   ],
   "source": [
    "# 2.Problemin b Şıkkının Çözümünü Buraya Yazınız\n",
    "repating_list = list()\n",
    "non_repating_list = list()\n",
    "\n",
    "for i in numbers_list:\n",
    "    for j in result_list:\n",
    "        if i == j:\n",
    "            repating_list.append(i)\n",
    "        elif i != j:\n",
    "            non_repating_list.append(i)\n",
    "\n",
    "print(repating_list)\n",
    "print(non_repating_list)\n"
   ]
  },
  {
   "cell_type": "markdown",
   "metadata": {},
   "source": [
    "# Problem 3\n",
    "sn1 = {1,2,3,4,5}\n",
    "\n",
    "sn2 = {4,5,6,7,8}\n",
    "\n",
    " Verilen 2 adet küme için kesişimlerini, farklarını ve birleşimlerini bulunuz. "
   ]
  },
  {
   "cell_type": "code",
   "execution_count": 12,
   "metadata": {},
   "outputs": [
    {
     "name": "stdout",
     "output_type": "stream",
     "text": [
      "Intersections: {4, 5}\n",
      "Differences {1, 2, 3}\n",
      "Uninon: {1, 2, 3, 4, 5, 6, 7, 8}\n"
     ]
    }
   ],
   "source": [
    "# 3.Problemin Çözümünü Buraya Yazınız\n",
    "sn1 = {1,2,3,4,5}\n",
    "\n",
    "sn2 = {4,5,6,7,8}\n",
    "\n",
    "print(f\"Intersections: {sn1.intersection(sn2)}\\nDifferences {sn1.difference(sn2)}\\nUninon: {sn1.union(sn2)}\")"
   ]
  },
  {
   "cell_type": "markdown",
   "metadata": {},
   "source": [
    "# Problem 4\n",
    "\n",
    "Buradaki işlemlerimizin tamamı stringler içindir. Aşağıda verilecek olan metodlar için kendinizin örnek yaratması gerekmektedir. \n",
    "\n",
    "Örneğin `upper` için `string` değişkeni oluştururken` k = \"BAC\"` şeklinde oluşturmayınız. Bunun yerine k değişkenini `k = \"bac`\" şeklinde oluşturmanız `upper` metodundaki değişimi görebilmeniz için daha iyi olacaktır.\n",
    "\n",
    "Bütün metodlardaki değişimin gözle görülür şekilde değişimi beklenmektedir.\n",
    "\n",
    "\n",
    "1- capitalize(), lower(), upper(), swapcase(), title(), replace()\n",
    "\n",
    "2- endswith(), startswith(), find(), index(), count()\n",
    "\n",
    "3- split(), strip(), join(), islower(), isalpha(), isdigit()\n",
    "\n",
    "\n",
    "Yukarıdaki `string` metodlarındaki değişimleri görebildiğimiz bir program yazınız.\n"
   ]
  },
  {
   "cell_type": "code",
   "execution_count": 1,
   "metadata": {},
   "outputs": [
    {
     "name": "stdout",
     "output_type": "stream",
     "text": [
      "BAYERN MUNICH\n",
      "Bayern munich\n",
      "AtLEtIC bILbaO\n",
      "Bayern Munich\n",
      "bayern dortmund\n",
      "True\n",
      "False\n",
      "7\n",
      "1\n",
      "2\n",
      "['SOUTHAMPTON']\n",
      "SOUTHAMPTON\n",
      "bSOUTHAMPTONaSOUTHAMPTONySOUTHAMPTONeSOUTHAMPTONrSOUTHAMPTONnSOUTHAMPTON SOUTHAMPTONmSOUTHAMPTONuSOUTHAMPTONnSOUTHAMPTONiSOUTHAMPTONcSOUTHAMPTONh\n",
      "False\n",
      "True\n",
      "False\n"
     ]
    }
   ],
   "source": [
    "# 4.Problemin Çözümünü Buraya Yazınız\n",
    "# 4.Problemin Çözümünü Buraya Yazınız\n",
    "lower_case_string = \"bayern munich\"\n",
    "random_case_string = \"aTleTic BilBAo\"\n",
    "upper_case_string = \"SOUTHAMPTON\"\n",
    "\n",
    "print(lower_case_string.upper())\n",
    "print(lower_case_string.capitalize())\n",
    "print(random_case_string.swapcase())\n",
    "print(lower_case_string.title())\n",
    "print(lower_case_string.replace(\"munich\", \"dortmund\"))\n",
    "print(lower_case_string.endswith(\"h\"))\n",
    "print(lower_case_string.startswith(\"a\"))\n",
    "print(lower_case_string.find(\"m\"))\n",
    "print(lower_case_string.index(\"a\"))\n",
    "print(upper_case_string.count(\"O\"))\n",
    "print(upper_case_string.split(\" \"))\n",
    "print(upper_case_string.strip())\n",
    "print(upper_case_string.join(lower_case_string))\n",
    "print(upper_case_string.islower())\n",
    "print(upper_case_string.isalpha())\n",
    "print(upper_case_string.isdigit())"
   ]
  }
 ],
 "metadata": {
  "kernelspec": {
   "display_name": "Python 3.10.5 64-bit",
   "language": "python",
   "name": "python3"
  },
  "language_info": {
   "codemirror_mode": {
    "name": "ipython",
    "version": 3
   },
   "file_extension": ".py",
   "mimetype": "text/x-python",
   "name": "python",
   "nbconvert_exporter": "python",
   "pygments_lexer": "ipython3",
   "version": "3.10.10"
  },
  "orig_nbformat": 4,
  "vscode": {
   "interpreter": {
    "hash": "5026d2d6e7aaaaba093def813beadff083d8733e4a511af01735cbabd156995d"
   }
  }
 },
 "nbformat": 4,
 "nbformat_minor": 2
}
